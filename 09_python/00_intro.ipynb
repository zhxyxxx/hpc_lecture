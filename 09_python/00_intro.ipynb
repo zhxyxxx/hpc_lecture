{
 "cells": [
  {
   "cell_type": "markdown",
   "metadata": {
    "slideshow": {
     "slide_type": "slide"
    }
   },
   "source": [
    "# The JupyterLab Interface\n",
    "\n",
    "JupyterLab provides flexible building blocks for **interactive**, **exploratory** computing.\n",
    "\n",
    "The interface consists of: \n",
    "- **Main work area** with tabs of documents and activities\n",
    "- **Collapsible left sidebar**\n",
    "- **Menu bar**\n"
   ]
  },
  {
   "cell_type": "markdown",
   "metadata": {
    "slideshow": {
     "slide_type": "slide"
    }
   },
   "source": [
    "## Main work area\n",
    "Arrange documents (notebooks, text files) and activities (terminals, consoles) into panels that can be resized or subdivided.\n",
    "\n",
    "The active tab is marked with a thin blue top border."
   ]
  },
  {
   "cell_type": "markdown",
   "metadata": {},
   "source": [
    "## Left sidebar\n",
    "Contains commonly used tabs:\n",
    "- File browser\n",
    "- List of running terminals and kernels\n",
    "- Command palette\n",
    "- Notebook cell tools inspector\n",
    "- List of open tabs\n",
    "\n",
    "JupyterLab extensions can add additional tabs to the left sidebar\n",
    "- Dask dashboard"
   ]
  },
  {
   "cell_type": "markdown",
   "metadata": {
    "slideshow": {
     "slide_type": "fragment"
    }
   },
   "source": [
    "## Menu bar\n",
    "Top level menus that expose actions along with their keyboard shortcuts\n",
    "- File: actions related to files and directory\n",
    "- Edit: actions related to editing documents \n",
    "- View: actions to alter the appearance of JupyterLab\n",
    "- Run: actions for running code in notebooks and consoles\n",
    "- Kernel: actions for managing kernels (processes for running code)\n",
    "- Tabs: List of open documents / activities\n",
    "- Settings: common setting and advanced settings editor\n",
    "- Help: List of links for help on JupyterLab and kernels "
   ]
  },
  {
   "cell_type": "markdown",
   "metadata": {},
   "source": [
    "## Workspaces\n",
    "JupyterLab sessions reside in a **workspace**. The workspace holds information on the files that are open, and the layout of the activities, tabs etc. If you refresh the page the workspace is restored.\n",
    "\n",
    "The default workspace does not have a name. It resides at the primary `/lab` URL.\n",
    "\n",
    "If you open JupyterLab in another browser tab it will create a clone of the workspace with a new URL. You cannot have the same workspace open in multiple browser tabs (or different browsers)"
   ]
  },
  {
   "cell_type": "markdown",
   "metadata": {},
   "source": [
    "## Tabs and Single-Document Mode\n",
    "You can focus on a single document without closing all tabs in the main work area. Single-Document Mode is found in the View menu."
   ]
  },
  {
   "cell_type": "markdown",
   "metadata": {},
   "source": [
    "## Context Menus\n",
    "Individual context menus exist for documents, text files, consoles etc. Right-click on the element to bring up its context menu.\n",
    "\n",
    "The web browser's native context menu can be accessed by holding down `shift` when right-clicking."
   ]
  },
  {
   "cell_type": "markdown",
   "metadata": {},
   "source": [
    "## Working with files\n",
    "### Opening files\n",
    "- Double-click on the filename,\n",
    "or\n",
    "- Right-click to open with..., or\n",
    "- Drag it across to the main work area\n",
    "\n",
    "Single files can be opened simultaneously in multiple editors or viewers."
   ]
  },
  {
   "cell_type": "markdown",
   "metadata": {},
   "source": [
    "### Creating new files\n",
    "- Click the `+` button, or\n",
    "- File -> New\n",
    "\n",
    "Rename the file by right-clicking on its name in the file browser and selecting Rename, or right-clicking on its tab header.\n",
    "### Downloading files to your local machine\n",
    "Right-click the file name in the file browser and select Download."
   ]
  },
  {
   "cell_type": "markdown",
   "metadata": {},
   "source": [
    "# Working with Notebooks"
   ]
  },
  {
   "cell_type": "markdown",
   "metadata": {},
   "source": [
    "## First, what is a notebook?"
   ]
  },
  {
   "cell_type": "code",
   "execution_count": null,
   "metadata": {},
   "outputs": [],
   "source": [
    "name = \"01-jupyterlab-interface\"\n",
    "!head -n 15 {name}.ipynb | pygmentize -l json"
   ]
  },
  {
   "cell_type": "markdown",
   "metadata": {},
   "source": [
    "## Modes\n",
    "There are two \"modes\" in Jupyter: \n",
    "- **command** mode \n",
    "- **edit** mode\n",
    "\n",
    "`Esc` puts you in command mode, where you can add or delete cells. etc.\n",
    "\n",
    "`Enter` puts you into edit mode, where you can edit the cells. \n",
    "\n",
    "Regardless of the mode, `Shift Enter` runs the current cell and focus changes to the next cell.  "
   ]
  },
  {
   "cell_type": "markdown",
   "metadata": {},
   "source": [
    "## Cell input and output\n",
    "By default the output from the last line evaluated is printed to the screen."
   ]
  },
  {
   "cell_type": "code",
   "execution_count": null,
   "metadata": {},
   "outputs": [],
   "source": [
    "1+2"
   ]
  },
  {
   "cell_type": "code",
   "execution_count": null,
   "metadata": {},
   "outputs": [],
   "source": [
    "1+1\n",
    "2+2"
   ]
  },
  {
   "cell_type": "markdown",
   "metadata": {},
   "source": [
    "You can refer to output of previous cell with `_`"
   ]
  },
  {
   "cell_type": "code",
   "execution_count": null,
   "metadata": {},
   "outputs": [],
   "source": [
    "_+2"
   ]
  },
  {
   "cell_type": "markdown",
   "metadata": {},
   "source": [
    "Likewise for `_N` and `Out[N]`"
   ]
  },
  {
   "cell_type": "code",
   "execution_count": null,
   "metadata": {},
   "outputs": [],
   "source": [
    "_3+2"
   ]
  },
  {
   "cell_type": "code",
   "execution_count": null,
   "metadata": {},
   "outputs": [],
   "source": [
    "import numpy\n",
    "numpy.random.random([4,4])"
   ]
  },
  {
   "cell_type": "code",
   "execution_count": null,
   "metadata": {},
   "outputs": [],
   "source": [
    "a = _\n",
    "a"
   ]
  },
  {
   "cell_type": "markdown",
   "metadata": {},
   "source": [
    "You can suppress storage and rendering of output with `;` (useful for large results like figures or pandas dataframes)."
   ]
  },
  {
   "cell_type": "code",
   "execution_count": null,
   "metadata": {},
   "outputs": [],
   "source": [
    "1+2;"
   ]
  },
  {
   "cell_type": "markdown",
   "metadata": {},
   "source": [
    "A rich history is available with the `%history` magic. Documentation with `%history?`\n"
   ]
  },
  {
   "cell_type": "code",
   "execution_count": null,
   "metadata": {},
   "outputs": [],
   "source": [
    "%history -n 1-10"
   ]
  },
  {
   "cell_type": "markdown",
   "metadata": {},
   "source": [
    "## Variable namespaces\n",
    "You can look at variables that are in the current namespace with `%who`. More details with `%whos`."
   ]
  },
  {
   "cell_type": "code",
   "execution_count": null,
   "metadata": {},
   "outputs": [],
   "source": [
    "%who"
   ]
  },
  {
   "cell_type": "code",
   "execution_count": null,
   "metadata": {},
   "outputs": [],
   "source": [
    "%whos"
   ]
  },
  {
   "cell_type": "markdown",
   "metadata": {},
   "source": [
    "## JupyterLab specific features\n",
    "There are some new things you can do with JupyterLab that you can't do with Classic Notebook.\n",
    "- Drag and drop cells within a notebook to rearrange the notebook\n",
    "- Multiple views of a single notebook\n",
    "- Drag cells between notebooks to copy content\n",
    "- Collapse and expand code and output (blue collapser button on left of each cell)\n",
    "- Enable scrolling for long outputs (right click on a cell and select \"Enable Scrolling for Outputs\")\n",
    "- Create a new synchronized view of a cell's output\n",
    "- Improved tab completion"
   ]
  },
  {
   "cell_type": "markdown",
   "metadata": {},
   "source": [
    "## Terminals\n",
    "\n",
    "JupyterLab terminals provide support for system shells on Mac/Linux and PowerShell on Windows. The terminal runs where the Jupyter server is running, i.e. the compute node.  \n",
    "\n",
    "Closing a terminal will leave it running. You can reopen it with the Running Terminals and Kernels tab on the Sidebar. \n",
    "\n",
    "### Copy and paste from terminal\n",
    "\n",
    "- For MacOS `Cmd C` and `Cmd V` should work\n",
    "- For Windows Powershell `Ctrl Insert` and `Shift Insert` should work\n",
    "- For native browser copy and paste hold `Shift` and right click to bring up the context menu\n",
    "- For non MacOS, `Ctrl C` (if text is selected) and `Ctrl V` should work"
   ]
  },
  {
   "cell_type": "markdown",
   "metadata": {},
   "source": [
    "## Command Palette\n",
    "All actions are processed through a centralised command system. The command palette in the left sidebar provides a keyboard-driven way to search for and run JupyterLab commands. \n",
    "\n",
    "It is accessed with `Command/Ctrl Shift C`"
   ]
  },
  {
   "cell_type": "markdown",
   "metadata": {},
   "source": [
    "## Connecting to Code Console\n",
    "You can connect a text file to a code console and kernel, so you can run code interactively from the text file. \n",
    "\n",
    "Right-click on a document and select \"Create Console for Editor\"\n",
    "\n",
    "You can run single lines of code or select blocks of code and hit `Shift Enter`\n",
    "\n",
    "In a markdown file `Shift Enter` will automatically detect if you are in a code section and run the entire block.\n",
    "\n",
    "<div class=\"alert alert-block alert-info\">\n",
    "<b>Example:</b> python_hpc_markdown.md\n",
    "</div>"
   ]
  },
  {
   "cell_type": "markdown",
   "metadata": {},
   "source": [
    "## IPython Magics\n",
    "\n",
    "Magics are special built-in commands that begin with percentages signs `%`.\n",
    "- line magics (`%`): the arguments are all on one line \n",
    "- cell magics (`%%`): the entire cell are the arguments to the command  "
   ]
  },
  {
   "cell_type": "code",
   "execution_count": null,
   "metadata": {},
   "outputs": [],
   "source": [
    "%lsmagic #list available magics"
   ]
  },
  {
   "cell_type": "markdown",
   "metadata": {},
   "source": [
    "### Magics for timing code snippets\n",
    "Use `%time`, `%timeit`, `%%time`, and `%%timeit` magics to benchmark snippets of your code."
   ]
  },
  {
   "cell_type": "code",
   "execution_count": null,
   "metadata": {},
   "outputs": [],
   "source": [
    "# A function to simulate a million dice throws.\n",
    "import numpy as np\n",
    "from numpy.random import randint\n",
    "def one_million_dice():\n",
    "    return randint(low=1, high=7, size=1000000)"
   ]
  },
  {
   "cell_type": "code",
   "execution_count": null,
   "metadata": {},
   "outputs": [],
   "source": [
    "%time throws = one_million_dice()\n",
    "%time mean = np.mean(throws)\n",
    "mean"
   ]
  },
  {
   "cell_type": "code",
   "execution_count": null,
   "metadata": {},
   "outputs": [],
   "source": [
    "%timeit throws = one_million_dice()\n",
    "%timeit mean = np.mean(throws)"
   ]
  },
  {
   "cell_type": "code",
   "execution_count": null,
   "metadata": {},
   "outputs": [],
   "source": [
    "%%timeit\n",
    "throws = one_million_dice()\n",
    "mean = np.mean(throws)"
   ]
  },
  {
   "cell_type": "markdown",
   "metadata": {},
   "source": [
    "### Writing files\n",
    "Write the contents of the cell to a file with the `%%writefile` cell magic.\n",
    "\n",
    "The file will be overwritten unless the -a (–append) flag is specified."
   ]
  },
  {
   "cell_type": "code",
   "execution_count": null,
   "metadata": {},
   "outputs": [],
   "source": [
    "%%writefile python_hpc_snippet.py\n",
    "\n",
    "def some_code():\n",
    "    print('Writing a file with writefile')\n",
    "    return 'Value'\n",
    "\n",
    "some_code()"
   ]
  },
  {
   "cell_type": "markdown",
   "metadata": {},
   "source": [
    "### Printing files\n",
    "Examine the contents of a file with the `%pycat` line magic. Similar to the cat utility, but will show Python syntax highlighting."
   ]
  },
  {
   "cell_type": "code",
   "execution_count": null,
   "metadata": {},
   "outputs": [],
   "source": [
    "%pycat python_hpc_snippet.py"
   ]
  },
  {
   "cell_type": "markdown",
   "metadata": {},
   "source": [
    "### Loading files \n",
    "The `%load` line magic will replace the contents of the cell with an external script. Run a second time to execute. "
   ]
  },
  {
   "cell_type": "code",
   "execution_count": null,
   "metadata": {},
   "outputs": [],
   "source": [
    "# %load python_hpc_snippet.py\n",
    "\n",
    "def some_code():\n",
    "    print('Writing a file with writefile')\n",
    "    return 'Value'\n",
    "\n",
    "some_code()\n"
   ]
  },
  {
   "cell_type": "markdown",
   "metadata": {},
   "source": [
    "### Execute a file directly from the notebook\n",
    "Run a Python script or notebook with **%run** magic "
   ]
  },
  {
   "cell_type": "code",
   "execution_count": null,
   "metadata": {},
   "outputs": [],
   "source": [
    "%run python_hpc_snippet.py"
   ]
  },
  {
   "cell_type": "markdown",
   "metadata": {},
   "source": [
    "## Help\n",
    "### Help menu\n",
    "Inside the **Help** menu you’ll find handy links to the online documentation for common libraries including NumPy, SciPy, pandas, and Matplotlib."
   ]
  },
  {
   "cell_type": "markdown",
   "metadata": {},
   "source": [
    "### Question mark operator \n",
    "Global help from question mark itself: "
   ]
  },
  {
   "cell_type": "code",
   "execution_count": null,
   "metadata": {},
   "outputs": [],
   "source": [
    "?"
   ]
  },
  {
   "cell_type": "markdown",
   "metadata": {},
   "source": [
    "Typing `object_name?` will print details about objects including docstrings, function definitions..."
   ]
  },
  {
   "cell_type": "code",
   "execution_count": null,
   "metadata": {},
   "outputs": [],
   "source": [
    "import numpy as np\n",
    "np?"
   ]
  },
  {
   "cell_type": "markdown",
   "metadata": {},
   "source": [
    "### While you are typing...\n",
    "`Shift Tab` will show you the Docstring for the the object you have just typed in a code cell."
   ]
  },
  {
   "cell_type": "code",
   "execution_count": null,
   "metadata": {},
   "outputs": [],
   "source": [
    "np."
   ]
  },
  {
   "cell_type": "markdown",
   "metadata": {},
   "source": [
    "### Wildcards\n",
    "If you remember that there was a function but you can't remember the exact name, you can use question mark and it will look through your namespace to find something that matches. "
   ]
  },
  {
   "cell_type": "code",
   "execution_count": null,
   "metadata": {},
   "outputs": [],
   "source": [
    "*int*?"
   ]
  },
  {
   "cell_type": "markdown",
   "metadata": {},
   "source": [
    "### Quickref"
   ]
  },
  {
   "cell_type": "code",
   "execution_count": null,
   "metadata": {},
   "outputs": [],
   "source": [
    "%quickref"
   ]
  },
  {
   "cell_type": "markdown",
   "metadata": {},
   "source": [
    "## Keyboard shortcuts\n",
    "\n",
    "`Esc` puts you in command mode, where you can navigate around your notebook with arrow keys.\n",
    "    \n",
    "While in command mode:\n",
    "        \n",
    "`a` to insert a new cell above the current cell \n",
    "\n",
    "`b` to insert a new cell below.\n",
    "\n",
    "`m` to change the current cell to Markdown \n",
    "\n",
    "`y` to change the current cell to code\n",
    "\n",
    "`dd`  (press the key twice) to delete the current cell\n",
    "\n",
    "`Enter` will take you into edit mode for the given cell.\n",
    "\n",
    "While in edit mode:\n",
    "\n",
    "`Ctrl Shift -` will split the current cell into two from where your cursor is.    \n",
    "\n",
    "`Shift Enter` runs the current cell and focus changes to next cell\n",
    "\n",
    "`Ctrl Enter` runs the current cell without advancing\n",
    "\n",
    "`Option Enter` runs the current cell and inserts a new cell below \n",
    "\n",
    "Other:\n",
    "\n",
    "`ii` (two i's) Interrupts the kernel\n",
    "\n",
    "`00` (two zeroes) Restarts the kernel\n",
    "\n",
    "`Command Shift C` brings you to the Command Palette, from where you can search for  commands."
   ]
  }
 ],
 "metadata": {
  "kernelspec": {
   "display_name": "Python 3",
   "language": "python",
   "name": "python3"
  },
  "language_info": {
   "codemirror_mode": {
    "name": "ipython",
    "version": 3
   },
   "file_extension": ".py",
   "mimetype": "text/x-python",
   "name": "python",
   "nbconvert_exporter": "python",
   "pygments_lexer": "ipython3",
   "version": "3.7.7"
  }
 },
 "nbformat": 4,
 "nbformat_minor": 4
}
