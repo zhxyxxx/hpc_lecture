{
 "cells": [
  {
   "cell_type": "markdown",
   "metadata": {},
   "source": [
    "# Optimizing Python Code with [Cython](https://cython.org/)"
   ]
  },
  {
   "cell_type": "code",
   "execution_count": null,
   "metadata": {},
   "outputs": [],
   "source": [
    "import Cython\n",
    "from random import random\n",
    "import math\n",
    "import numpy as np\n",
    "import matplotlib.pyplot as plt\n",
    "\n",
    "# This is needed to load the Cython magic\n",
    "%load_ext Cython"
   ]
  },
  {
   "cell_type": "markdown",
   "metadata": {},
   "source": [
    "## Calculating $\\pi$ using Monte Carlo Integration"
   ]
  },
  {
   "cell_type": "markdown",
   "metadata": {},
   "source": [
    "### Pure Python"
   ]
  },
  {
   "cell_type": "code",
   "execution_count": null,
   "metadata": {},
   "outputs": [],
   "source": [
    "def pi_mc(n=1000):\n",
    "    '''Calculate PI using Monte Carlo method'''\n",
    "    in_circle = 0\n",
    "    for i in range(n):\n",
    "        x, y = random(), random()\n",
    "        if x ** 2 + y ** 2 <= 1.0:\n",
    "            in_circle += 1\n",
    "        \n",
    "    return 4.0 * in_circle / n"
   ]
  },
  {
   "cell_type": "code",
   "execution_count": null,
   "metadata": {},
   "outputs": [],
   "source": [
    "%time pi_mc(10000000)"
   ]
  },
  {
   "cell_type": "markdown",
   "metadata": {},
   "source": [
    "### Cython"
   ]
  },
  {
   "cell_type": "markdown",
   "metadata": {},
   "source": [
    "#### 1. Use `cython` cell magic without making any code change"
   ]
  },
  {
   "cell_type": "code",
   "execution_count": null,
   "metadata": {},
   "outputs": [],
   "source": [
    "%%cython\n",
    "\n",
    "from random import random\n",
    "\n",
    "def pi_mc(n=1000):\n",
    "    '''Calculate PI using Monte Carlo method'''\n",
    "    in_circle = 0\n",
    "    for i in range(n):\n",
    "        x, y = random(), random()\n",
    "        if x ** 2 + y ** 2 <= 1.0:\n",
    "            in_circle += 1\n",
    "        \n",
    "    return 4.0 * in_circle / n"
   ]
  },
  {
   "cell_type": "code",
   "execution_count": null,
   "metadata": {},
   "outputs": [],
   "source": [
    "%time pi_mc(10000000)"
   ]
  },
  {
   "cell_type": "markdown",
   "metadata": {},
   "source": [
    "#### 2. Static type declarations in Cython with `cdef`\n",
    "\n",
    "Static type declarations allow Cython to step out of the dynamic nature of the Python code and produce efficient **C** code."
   ]
  },
  {
   "cell_type": "code",
   "execution_count": null,
   "metadata": {},
   "outputs": [],
   "source": [
    "%%cython\n",
    "\n",
    "from random import random\n",
    "\n",
    "def pi_mc(n=1000):\n",
    "    '''Calculate PI using Monte Carlo method'''\n",
    "    cdef int in_circle = 0\n",
    "    cdef int i\n",
    "    cdef double x, y\n",
    "    for i in range(n):\n",
    "        x, y = random(), random()\n",
    "        if x ** 2 + y ** 2 <= 1.0:\n",
    "            in_circle += 1\n",
    "        \n",
    "    return 4.0 * in_circle / n"
   ]
  },
  {
   "cell_type": "code",
   "execution_count": null,
   "metadata": {},
   "outputs": [],
   "source": [
    "%time pi_mc(10000000)"
   ]
  },
  {
   "cell_type": "markdown",
   "metadata": {},
   "source": [
    "#### 3. Using Cython `annotate` option and inspect the generated C code"
   ]
  },
  {
   "cell_type": "code",
   "execution_count": null,
   "metadata": {},
   "outputs": [],
   "source": [
    "%%cython --annotate\n",
    "\n",
    "from random import random\n",
    "\n",
    "def pi_mc(int n=1000):\n",
    "    '''Calculate PI using Monte Carlo method'''\n",
    "    cdef:\n",
    "        int in_circle = 0\n",
    "        int i\n",
    "        double x, y\n",
    "    for i in range(n):\n",
    "        x, y = random(), random()\n",
    "        if x ** 2 + y ** 2 <= 1.0:\n",
    "            in_circle += 1\n",
    "        \n",
    "    return 4.0 * in_circle / n"
   ]
  },
  {
   "cell_type": "code",
   "execution_count": null,
   "metadata": {},
   "outputs": [],
   "source": [
    "%time pi_mc(10000000)"
   ]
  },
  {
   "cell_type": "markdown",
   "metadata": {},
   "source": [
    "## Types of Cython functions\n",
    "\n",
    "Cython offers three different types of function declared with `def`, `cdef`, `cpdef`:\n",
    "\n",
    "1. Functions declared with `def` can be called from Python and Cython code.\n",
    "2. Functions declared with `cdef` can be only called from Cython code.\n",
    "3. `cpdef` causes Cython to create two versions of the function. One which is used when the function is called from Cython code and one when it is called from Python."
   ]
  },
  {
   "cell_type": "code",
   "execution_count": null,
   "metadata": {
    "scrolled": true
   },
   "outputs": [],
   "source": [
    "%%cython \n",
    "\n",
    "\n",
    "cdef double cube(double x):\n",
    "    return x * x * x\n",
    "\n",
    "\n",
    "cpdef double cube_sum(double x, double y):\n",
    "    return cube(x) + cube(y)"
   ]
  },
  {
   "cell_type": "markdown",
   "metadata": {},
   "source": [
    "### Function Inlining\n",
    "\n",
    "We can use the `cdef inline` for small functions that are used often and Cython inlines them reducing overhead"
   ]
  },
  {
   "cell_type": "code",
   "execution_count": null,
   "metadata": {
    "scrolled": true
   },
   "outputs": [],
   "source": [
    "%%cython --annotate\n",
    "\n",
    "\n",
    "cdef inline double cube(double x):\n",
    "    return x * x * x\n",
    "\n",
    "\n",
    "cpdef double cube_sum(double x, double y):\n",
    "    return cube(x) + cube(y)"
   ]
  },
  {
   "cell_type": "markdown",
   "metadata": {},
   "source": [
    "## Typed Memory Views\n",
    "\n",
    "Cython allows access to the contents of NumPy arrays by **memory views**."
   ]
  },
  {
   "cell_type": "code",
   "execution_count": null,
   "metadata": {},
   "outputs": [],
   "source": [
    "%%cython --annotate\n",
    "\n",
    "def my_sum(double[:] x):\n",
    "    cdef int i, nx = x.shape[0]\n",
    "    cdef double s = 0.0\n",
    "    for i in range(nx):\n",
    "        s += x[i]\n",
    "        \n",
    "    return s"
   ]
  },
  {
   "cell_type": "code",
   "execution_count": null,
   "metadata": {},
   "outputs": [],
   "source": [
    "x = np.ones(1000, dtype=np.float64)\n",
    "s1 = my_sum(x)\n",
    "s2 = x.sum()\n",
    "print(s1, s2)"
   ]
  },
  {
   "cell_type": "code",
   "execution_count": null,
   "metadata": {},
   "outputs": [],
   "source": [
    "%%cython --annotate\n",
    "\n",
    "def my_sum2d(double[:, :] x):\n",
    "    cdef int i, j, nx = x.shape[0], ny = x.shape[1]\n",
    "    cdef double s = 0.0\n",
    "    for i in range(nx):\n",
    "        for j in range(ny):\n",
    "            s += x[i, j]\n",
    "        \n",
    "    return s"
   ]
  },
  {
   "cell_type": "code",
   "execution_count": null,
   "metadata": {},
   "outputs": [],
   "source": [
    "x = np.ones((1000, 1000), dtype=np.float64)\n",
    "s1 = my_sum2d(x)\n",
    "s2 = x.sum()\n",
    "print(s1, s2)"
   ]
  },
  {
   "cell_type": "markdown",
   "metadata": {},
   "source": [
    "## Disable bounds checking and wraparound\n",
    "\n",
    "For safety reasons, Cython checks if we try to access elements out of the array boundaries. \n",
    "Furthermore it allows using negative array indices. We can exhange safety with performance disabling both of them.\n"
   ]
  },
  {
   "cell_type": "code",
   "execution_count": null,
   "metadata": {},
   "outputs": [],
   "source": [
    "%%cython --annotate\n",
    "\n",
    "from cython cimport wraparound, boundscheck\n",
    "\n",
    "@wraparound(False)\n",
    "@boundscheck(False)\n",
    "cpdef double my_sum2d(double[:, :] x):\n",
    "    cdef int i, j, nx = x.shape[0], ny = x.shape[1]\n",
    "    cdef double s = 0.0\n",
    "    for i in range(nx):\n",
    "        for j in range(ny):\n",
    "            s += x[i, j]\n",
    "        \n",
    "    return s"
   ]
  },
  {
   "cell_type": "markdown",
   "metadata": {},
   "source": [
    "## Releasing the GIL and parallelizing loops"
   ]
  },
  {
   "cell_type": "markdown",
   "metadata": {},
   "source": [
    "### Calculating Julia Sets"
   ]
  },
  {
   "cell_type": "code",
   "execution_count": null,
   "metadata": {},
   "outputs": [],
   "source": [
    "%%cython\n",
    "\n",
    "from cython cimport boundscheck, wraparound\n",
    "\n",
    "@wraparound(False)\n",
    "@boundscheck(False)\n",
    "def julia_set_cython(const double[:, :] X, const double[:, :] Y,\n",
    "                     const double cx, const double cy,\n",
    "                     const int iter_max, const double radius2, \n",
    "                     int[:, :] julia):\n",
    "    cdef:\n",
    "        int i, j, k, nx, ny\n",
    "        double x, y\n",
    "    nx = X.shape[0]\n",
    "    ny = Y.shape[1]\n",
    "    for i in range(nx):\n",
    "        for j in range(ny):\n",
    "            x = X[i, j]\n",
    "            y = Y[i, j]\n",
    "            k = 0\n",
    "            while x * x + y * y < radius2 and k < iter_max:\n",
    "                x, y = x * x - y * y + cx, 2.0 * x * y + cy\n",
    "                k = k + 1\n",
    "                \n",
    "            julia[i, j] = k"
   ]
  },
  {
   "cell_type": "code",
   "execution_count": null,
   "metadata": {},
   "outputs": [],
   "source": [
    "X, Y = np.meshgrid(np.linspace(-2.0 , 2.0, 5000), np.linspace(-2.0, 2.0, 5000))\n",
    "fig = plt.figure(figsize=(10, 10))\n",
    "ax = fig.add_subplot(111)\n",
    "julia = np.zeros_like(X, dtype=np.int32)\n",
    "c = -0.9 + 0.22143j\n",
    "radius2 = 4.0\n",
    "%timeit julia_set_cython(X, Y, c.real, c.imag, 100, radius2, julia)\n",
    "ax.set_aspect('equal')\n",
    "ax.imshow(julia, extent=[-2, 2, -2, 2]);"
   ]
  },
  {
   "cell_type": "code",
   "execution_count": null,
   "metadata": {},
   "outputs": [],
   "source": [
    "%%cython\n",
    "\n",
    "from cython cimport boundscheck, wraparound\n",
    "from cython.parallel cimport prange\n",
    "\n",
    "@boundscheck(False)\n",
    "@wraparound(False)\n",
    "def julia_set_cython(const double[:, :] X, const double[:, :] Y,\n",
    "                     const double cx, const double cy,\n",
    "                     const int iter_max, const double radius2, \n",
    "                     int[:, :] julia):\n",
    "    cdef:\n",
    "        int i, j, k, nx, ny\n",
    "        double x, y\n",
    "    nx = X.shape[0]\n",
    "    ny = Y.shape[1]\n",
    "    for i in prange(nx, nogil=True):\n",
    "        for j in range(ny):\n",
    "            x = X[i, j]\n",
    "            y = Y[i, j]\n",
    "            k = 0\n",
    "            while x * x + y * y < radius2 and k < iter_max:\n",
    "                x, y = x * x - y * y + cx, 2.0 * x * y + cy\n",
    "                k = k + 1\n",
    "                \n",
    "            julia[i, j] = k"
   ]
  },
  {
   "cell_type": "code",
   "execution_count": null,
   "metadata": {},
   "outputs": [],
   "source": [
    "X, Y = np.meshgrid(np.linspace(-2.0 , 2.0, 5000), np.linspace(-2.0, 2.0, 5000))\n",
    "fig = plt.figure(figsize=(10, 10))\n",
    "ax = fig.add_subplot(111)\n",
    "julia = np.zeros_like(X, dtype=np.int32)\n",
    "c = -0.9 + 0.22143j\n",
    "radius2 = 4.0\n",
    "%timeit julia_set_cython(X, Y, c.real, c.imag, 100, radius2, julia)\n",
    "ax.set_aspect('equal')\n",
    "ax.imshow(julia, extent=[-2, 2, -2, 2]);"
   ]
  },
  {
   "cell_type": "code",
   "execution_count": null,
   "metadata": {},
   "outputs": [],
   "source": [
    "%%cython\n",
    "\n",
    "from cython cimport boundscheck, wraparound\n",
    "from cython.parallel cimport prange\n",
    "\n",
    "@boundscheck(False)\n",
    "@wraparound(False)\n",
    "def julia_set_cython(const double[:, :] X, const double[:, :] Y,\n",
    "                     const double cx, const double cy,\n",
    "                     const int iter_max, const double radius2, \n",
    "                     int[:, :] julia):\n",
    "    cdef:\n",
    "        int i, j, k, nx, ny\n",
    "        double x, y\n",
    "    nx = X.shape[0]\n",
    "    ny = Y.shape[1]\n",
    "    for i in prange(nx, nogil=True):\n",
    "        for j in range(ny):\n",
    "            x = X[i, j]\n",
    "            y = Y[i, j]\n",
    "            k = 0\n",
    "            while x * x + y * y < radius2 and k < iter_max:\n",
    "                x, y = x * x - y * y + cx, 2.0 * x * y + cy\n",
    "                k = k + 1\n",
    "                \n",
    "            julia[i, j] = k"
   ]
  },
  {
   "cell_type": "code",
   "execution_count": null,
   "metadata": {},
   "outputs": [],
   "source": [
    "X, Y = np.meshgrid(np.linspace(-2.0 , 2.0, 5000), np.linspace(-2.0, 2.0, 5000))\n",
    "fig = plt.figure(figsize=(10, 10))\n",
    "ax = fig.add_subplot(111)\n",
    "julia = np.zeros_like(X, dtype=np.int32)\n",
    "c = -0.9 + 0.22143j\n",
    "radius2 = 4.0\n",
    "%timeit julia_set_cython(X, Y, c.real, c.imag, 100, radius2, julia)\n",
    "ax.set_aspect('equal')\n",
    "ax.imshow(julia, extent=[-2, 2, -2, 2]);"
   ]
  },
  {
   "cell_type": "markdown",
   "metadata": {},
   "source": [
    "### !!! WE FORGOT TO PUT THE CORRECT COMPILATION/LINKING OPTIONS !!!"
   ]
  },
  {
   "cell_type": "code",
   "execution_count": null,
   "metadata": {},
   "outputs": [],
   "source": [
    "%%cython\n",
    "\n",
    "# distutils: extra_compile_args = -fopenmp -march=native\n",
    "# distutils: extra_link_args = -fopenmp\n",
    "from cython cimport boundscheck, wraparound\n",
    "from cython.parallel cimport prange\n",
    "\n",
    "@boundscheck(False)\n",
    "@wraparound(False)\n",
    "def julia_set_cython(const double[:, :] X, const double[:, :] Y,\n",
    "                     const double cx, const double cy,\n",
    "                     const int iter_max, const double radius2, \n",
    "                     int[:, :] julia):\n",
    "    cdef:\n",
    "        int i, j, k, nx, ny\n",
    "        double x, y\n",
    "    nx = X.shape[0]\n",
    "    ny = Y.shape[1]\n",
    "    for i in prange(nx, nogil=True):\n",
    "        for j in range(ny):\n",
    "            x = X[i, j]\n",
    "            y = Y[i, j]\n",
    "            k = 0\n",
    "            while x * x + y * y < radius2 and k < iter_max:\n",
    "                x, y = x * x - y * y + cx, 2.0 * x * y + cy\n",
    "                k = k + 1\n",
    "                \n",
    "            julia[i, j] = k"
   ]
  },
  {
   "cell_type": "code",
   "execution_count": null,
   "metadata": {},
   "outputs": [],
   "source": [
    "X, Y = np.meshgrid(np.linspace(-2.0 , 2.0, 5000), np.linspace(-2.0, 2.0, 5000))\n",
    "fig = plt.figure(figsize=(10, 10))\n",
    "ax = fig.add_subplot(111)\n",
    "julia = np.zeros_like(X, dtype=np.int32)\n",
    "c = -0.9 + 0.22143j\n",
    "radius2 = 4.0\n",
    "%timeit julia_set_cython(X, Y, c.real, c.imag, 100, radius2, julia)\n",
    "ax.set_aspect('equal')\n",
    "ax.imshow(julia, extent=[-2, 2, -2, 2]);"
   ]
  },
  {
   "cell_type": "markdown",
   "metadata": {},
   "source": [
    "# Additional Cython Features"
   ]
  },
  {
   "cell_type": "markdown",
   "metadata": {},
   "source": [
    "## Automatic Type Inference Using Cython's `infer_types`"
   ]
  },
  {
   "cell_type": "code",
   "execution_count": null,
   "metadata": {},
   "outputs": [],
   "source": [
    "import numpy as np\n",
    "from random import random\n",
    "import Cython\n",
    "\n",
    "%load_ext Cython"
   ]
  },
  {
   "cell_type": "code",
   "execution_count": null,
   "metadata": {
    "scrolled": true
   },
   "outputs": [],
   "source": [
    "%%cython -a\n",
    "\n",
    "from random import random\n",
    "from cython cimport infer_types\n",
    "\n",
    "cdef inline double my_rand():\n",
    "    return random()\n",
    "\n",
    "@infer_types(True)\n",
    "cpdef pi_mc_inferred(n=1000):\n",
    "    '''Calculate PI using Monte Carlo method'''\n",
    "    in_circle = 0\n",
    "    for i in range(n):\n",
    "        x = my_rand()\n",
    "        y = my_rand()\n",
    "        if x * x + y * y <= 1.0:\n",
    "            in_circle += 1\n",
    "        \n",
    "    return 4.0 * in_circle / n"
   ]
  },
  {
   "cell_type": "code",
   "execution_count": null,
   "metadata": {},
   "outputs": [],
   "source": [
    "%time pi_mc_inferred(10000000)"
   ]
  },
  {
   "cell_type": "markdown",
   "metadata": {},
   "source": [
    "## Cython Extensions Types"
   ]
  },
  {
   "cell_type": "code",
   "execution_count": null,
   "metadata": {},
   "outputs": [],
   "source": [
    "class PyRectangle:\n",
    "    def __init__(self, x, y):\n",
    "        self.x = x\n",
    "        self.y = y\n",
    "    \n",
    "    def area(self):\n",
    "        return self.x * self.y\n",
    "    \n",
    "    def perimeter(self):\n",
    "        return 2.0 * (self.x + self.y)"
   ]
  },
  {
   "cell_type": "code",
   "execution_count": null,
   "metadata": {},
   "outputs": [],
   "source": [
    "%%cython \n",
    "\n",
    "cdef class CyRectangle:\n",
    "    cdef:\n",
    "        double x, y\n",
    "        \n",
    "    def __cinit__(self, x, y):\n",
    "        self.x = x\n",
    "        self.y = y\n",
    "        \n",
    "    cpdef double area(self):\n",
    "        return self.x * self.y\n",
    "    \n",
    "    cpdef double perimeter(self):\n",
    "        return 2.0 * (self.x + self.y)"
   ]
  },
  {
   "cell_type": "code",
   "execution_count": null,
   "metadata": {},
   "outputs": [],
   "source": [
    "a = CyRectangle(1, 2)\n",
    "print(a.area(), a.perimeter())"
   ]
  },
  {
   "cell_type": "code",
   "execution_count": null,
   "metadata": {},
   "outputs": [],
   "source": [
    "%%cython\n",
    "from random import random\n",
    "\n",
    "cdef class CyRectangle:\n",
    "    cdef:\n",
    "        double x, y\n",
    "        \n",
    "    def __cinit__(self, x, y):\n",
    "        self.x = x\n",
    "        self.y = y\n",
    "        \n",
    "    cpdef double area(self):\n",
    "        return self.x * self.y\n",
    "    \n",
    "    cpdef double perimeter(self):\n",
    "        return 2.0 * (self.x + self.y)\n",
    "    \n",
    "cdef class CyRectangles:\n",
    "    cdef:\n",
    "        list rectangles\n",
    "        \n",
    "    def __cinit__(self, int n):\n",
    "        cdef unsigned int i\n",
    "        self.rectangles = []\n",
    "        for i in range(n):\n",
    "            self.rectangles.append(CyRectangle(random(), random()))\n",
    "            \n",
    "    cpdef double total_area(self):\n",
    "        cdef CyRectangle rect\n",
    "        cdef double area = 0.0\n",
    "        for rect in self.rectangles:\n",
    "            area += rect.area()\n",
    "            \n",
    "        return area"
   ]
  },
  {
   "cell_type": "code",
   "execution_count": null,
   "metadata": {},
   "outputs": [],
   "source": [
    "a = CyRectangles(100000)"
   ]
  },
  {
   "cell_type": "code",
   "execution_count": null,
   "metadata": {},
   "outputs": [],
   "source": [
    "a.total_area()"
   ]
  },
  {
   "cell_type": "markdown",
   "metadata": {},
   "source": [
    "## C-like Allocation/Dealllocation"
   ]
  },
  {
   "cell_type": "code",
   "execution_count": null,
   "metadata": {},
   "outputs": [],
   "source": [
    "%%cython\n",
    "\n",
    "from libc.stdlib cimport malloc, free\n",
    "\n",
    "\n",
    "cdef class CyRangeVector:\n",
    "    cdef:\n",
    "        int *data\n",
    "        int size\n",
    "        \n",
    "    def __cinit__(self, int start, int end):\n",
    "        cdef unsigned int i\n",
    "        if start >= end:\n",
    "            raise Exception(f'{start} >= {end}')\n",
    "        self.size = end - start\n",
    "        self.data = <int*>malloc(self.size * sizeof(int))\n",
    "        \n",
    "        for i in range(start, end):\n",
    "            self.data[i - start] = i\n",
    "            \n",
    "    def __getitem__(self, int i):\n",
    "        if i >= self.size or i < 0:\n",
    "            return -1\n",
    "\n",
    "        return self.data[i]\n",
    "    \n",
    "    def __dealloc__(self):\n",
    "        free(self.data)"
   ]
  },
  {
   "cell_type": "code",
   "execution_count": null,
   "metadata": {},
   "outputs": [],
   "source": [
    "my_range = CyRangeVector(10, 11000)\n",
    "my_range[2]"
   ]
  },
  {
   "cell_type": "markdown",
   "metadata": {},
   "source": [
    "## Interacting with the C++ Standard Template Library\n",
    "\n",
    "As long as we start using the C++ STL from inside Cython we have to switch to `language=c++`"
   ]
  },
  {
   "cell_type": "code",
   "execution_count": null,
   "metadata": {},
   "outputs": [],
   "source": [
    "%%cython\n",
    "\n",
    "# distutils: language=c++\n",
    "\n",
    "from libcpp.vector cimport vector\n",
    "\n",
    "cdef class CyRangeVector:\n",
    "    cdef:\n",
    "        vector[int] data\n",
    "        \n",
    "    def __cinit__(self, int start, int end):\n",
    "        cdef unsigned int i\n",
    "        if start >= end:\n",
    "            raise Exception(f'{start} >= {end}')\n",
    "        for i in range(start, end):\n",
    "            self.data.push_back(i)\n",
    "            \n",
    "    def __getitem__(self, int i):\n",
    "        if i >= self.data.size() or i < 0:\n",
    "            return None\n",
    "        \n",
    "        return self.data[i]"
   ]
  },
  {
   "cell_type": "code",
   "execution_count": null,
   "metadata": {},
   "outputs": [],
   "source": [
    "v = CyRangeVector(1, 20)\n",
    "print(v[1])"
   ]
  },
  {
   "cell_type": "code",
   "execution_count": null,
   "metadata": {},
   "outputs": [],
   "source": [
    "%%cython\n",
    "\n",
    "# distutils: language=c++\n",
    "\n",
    "from libcpp.vector cimport vector\n",
    "\n",
    "cpdef vector[int] cy_range(int start, int end):\n",
    "    cdef vector[int] v\n",
    "    cdef unsigned int i\n",
    "    for i in range(start, end):\n",
    "        v.push_back(i)\n",
    "    \n",
    "    return v"
   ]
  },
  {
   "cell_type": "code",
   "execution_count": null,
   "metadata": {},
   "outputs": [],
   "source": [
    "x = cy_range(1, 10)\n",
    "print(x, type(x))"
   ]
  },
  {
   "cell_type": "markdown",
   "metadata": {},
   "source": [
    "### Additional STL libraries are available and you can look at their [declaration files](https://github.com/cython/cython/tree/master/Cython/Includes/libcpp)"
   ]
  }
 ],
 "metadata": {
  "kernelspec": {
   "display_name": "Python 3",
   "language": "python",
   "name": "python3"
  },
  "language_info": {
   "codemirror_mode": {
    "name": "ipython",
    "version": 3
   },
   "file_extension": ".py",
   "mimetype": "text/x-python",
   "name": "python",
   "nbconvert_exporter": "python",
   "pygments_lexer": "ipython3",
   "version": "3.7.7"
  }
 },
 "nbformat": 4,
 "nbformat_minor": 4
}
