{
 "cells": [
  {
   "cell_type": "raw",
   "metadata": {},
   "source": [
    "Text provided under a Creative Commons Attribution license, CC-BY.  All code is made available under the FSF-approved BSD-3 license.  (c) Lorena A. Barba, Gilbert F. Forsyth 2017. Thanks to NSF for support via CAREER award #1149784."
   ]
  },
  {
   "cell_type": "markdown",
   "metadata": {},
   "source": [
    "[@LorenaABarba](https://twitter.com/LorenaABarba)"
   ]
  },
  {
   "cell_type": "markdown",
   "metadata": {},
   "source": [
    "12 steps to Navier–Stokes\n",
    "=====\n",
    "***"
   ]
  },
  {
   "cell_type": "markdown",
   "metadata": {},
   "source": [
    "Did you make it this far? This is the last step! How long did it take you to write your own Navier–Stokes solver in Python following this interactive module? Let us know!"
   ]
  },
  {
   "cell_type": "markdown",
   "metadata": {},
   "source": [
    "Step 12: Channel Flow with Navier–Stokes\n",
    "----\n",
    "***"
   ]
  },
  {
   "cell_type": "markdown",
   "metadata": {},
   "source": [
    "The only difference between this final step and Step 11 is that we are going to add a source term to the $u$-momentum equation, to mimic the effect of a pressure-driven channel flow. Here are our modified Navier–Stokes equations:"
   ]
  },
  {
   "cell_type": "markdown",
   "metadata": {},
   "source": [
    "$$\\frac{\\partial u}{\\partial t}+u\\frac{\\partial u}{\\partial x}+v\\frac{\\partial u}{\\partial y}=-\\frac{1}{\\rho}\\frac{\\partial p}{\\partial x}+\\nu\\left(\\frac{\\partial^2 u}{\\partial x^2}+\\frac{\\partial^2 u}{\\partial y^2}\\right)+F$$\n",
    "\n",
    "$$\\frac{\\partial v}{\\partial t}+u\\frac{\\partial v}{\\partial x}+v\\frac{\\partial v}{\\partial y}=-\\frac{1}{\\rho}\\frac{\\partial p}{\\partial y}+\\nu\\left(\\frac{\\partial^2 v}{\\partial x^2}+\\frac{\\partial^2 v}{\\partial y^2}\\right)$$\n",
    "\n",
    "$$\\frac{\\partial^2 p}{\\partial x^2}+\\frac{\\partial^2 p}{\\partial y^2}=-\\rho\\left(\\frac{\\partial u}{\\partial x}\\frac{\\partial u}{\\partial x}+2\\frac{\\partial u}{\\partial y}\\frac{\\partial v}{\\partial x}+\\frac{\\partial v}{\\partial y}\\frac{\\partial v}{\\partial y}\\right)\n",
    "$$"
   ]
  },
  {
   "cell_type": "markdown",
   "metadata": {},
   "source": [
    "### Discretized equations"
   ]
  },
  {
   "cell_type": "markdown",
   "metadata": {},
   "source": [
    "With patience and care, we write the discretized form of the equations. It is highly recommended that you write these in your own hand, mentally following each term as you write it.\n",
    "\n",
    "The $u$-momentum equation:\n",
    "\n",
    "$$\n",
    "\\begin{split}\n",
    "& \\frac{u_{i,j}^{n+1}-u_{i,j}^{n}}{\\Delta t}+u_{i,j}^{n}\\frac{u_{i,j}^{n}-u_{i-1,j}^{n}}{\\Delta x}+v_{i,j}^{n}\\frac{u_{i,j}^{n}-u_{i,j-1}^{n}}{\\Delta y} = \\\\\n",
    "& \\qquad -\\frac{1}{\\rho}\\frac{p_{i+1,j}^{n}-p_{i-1,j}^{n}}{2\\Delta x} \\\\\n",
    "& \\qquad +\\nu\\left(\\frac{u_{i+1,j}^{n}-2u_{i,j}^{n}+u_{i-1,j}^{n}}{\\Delta x^2}+\\frac{u_{i,j+1}^{n}-2u_{i,j}^{n}+u_{i,j-1}^{n}}{\\Delta y^2}\\right)+F_{i,j}\n",
    "\\end{split}\n",
    "$$\n",
    "\n",
    "The $v$-momentum equation:\n",
    "\n",
    "$$\n",
    "\\begin{split}\n",
    "& \\frac{v_{i,j}^{n+1}-v_{i,j}^{n}}{\\Delta t}+u_{i,j}^{n}\\frac{v_{i,j}^{n}-v_{i-1,j}^{n}}{\\Delta x}+v_{i,j}^{n}\\frac{v_{i,j}^{n}-v_{i,j-1}^{n}}{\\Delta y} = \\\\\n",
    "& \\qquad -\\frac{1}{\\rho}\\frac{p_{i,j+1}^{n}-p_{i,j-1}^{n}}{2\\Delta y} \\\\\n",
    "& \\qquad +\\nu\\left(\\frac{v_{i+1,j}^{n}-2v_{i,j}^{n}+v_{i-1,j}^{n}}{\\Delta x^2}+\\frac{v_{i,j+1}^{n}-2v_{i,j}^{n}+v_{i,j-1}^{n}}{\\Delta y^2}\\right)\n",
    "\\end{split}\n",
    "$$\n",
    "\n",
    "And the pressure equation:\n",
    "\n",
    "$$\n",
    "\\begin{split}\n",
    "& \\frac{p_{i+1,j}^{n}-2p_{i,j}^{n}+p_{i-1,j}^{n}}{\\Delta x^2} + \\frac{p_{i,j+1}^{n}-2p_{i,j}^{n}+p_{i,j-1}^{n}}{\\Delta y^2} = \\\\\n",
    "& \\qquad \\rho\\left[\\frac{1}{\\Delta t}\\left(\\frac{u_{i+1,j}-u_{i-1,j}}{2\\Delta x}+\\frac{v_{i,j+1}-v_{i,j-1}}{2\\Delta y}\\right) - \\frac{u_{i+1,j}-u_{i-1,j}}{2\\Delta x}\\frac{u_{i+1,j}-u_{i-1,j}}{2\\Delta x} - 2\\frac{u_{i,j+1}-u_{i,j-1}}{2\\Delta y}\\frac{v_{i+1,j}-v_{i-1,j}}{2\\Delta x} - \\frac{v_{i,j+1}-v_{i,j-1}}{2\\Delta y}\\frac{v_{i,j+1}-v_{i,j-1}}{2\\Delta y}\\right]\n",
    "\\end{split}\n",
    "$$"
   ]
  },
  {
   "cell_type": "markdown",
   "metadata": {},
   "source": [
    "As always, we need to re-arrange these equations to the form we need in the code to make the iterations proceed. \n",
    "\n",
    "For the $u$- and $v$ momentum equations, we isolate the velocity at time step `n+1`:\n",
    "\n",
    "$$\n",
    "\\begin{split}\n",
    "u_{i,j}^{n+1} = u_{i,j}^{n} & - u_{i,j}^{n} \\frac{\\Delta t}{\\Delta x} \\left(u_{i,j}^{n}-u_{i-1,j}^{n}\\right) - v_{i,j}^{n} \\frac{\\Delta t}{\\Delta y} \\left(u_{i,j}^{n}-u_{i,j-1}^{n}\\right) \\\\\n",
    "& - \\frac{\\Delta t}{\\rho 2\\Delta x} \\left(p_{i+1,j}^{n}-p_{i-1,j}^{n}\\right) \\\\\n",
    "& + \\nu\\left[\\frac{\\Delta t}{\\Delta x^2} \\left(u_{i+1,j}^{n}-2u_{i,j}^{n}+u_{i-1,j}^{n}\\right) + \\frac{\\Delta t}{\\Delta y^2} \\left(u_{i,j+1}^{n}-2u_{i,j}^{n}+u_{i,j-1}^{n}\\right)\\right] \\\\\n",
    "& + \\Delta t F\n",
    "\\end{split}\n",
    "$$\n",
    "\n",
    "$$\n",
    "\\begin{split}\n",
    "v_{i,j}^{n+1} = v_{i,j}^{n} & - u_{i,j}^{n} \\frac{\\Delta t}{\\Delta x} \\left(v_{i,j}^{n}-v_{i-1,j}^{n}\\right) - v_{i,j}^{n} \\frac{\\Delta t}{\\Delta y} \\left(v_{i,j}^{n}-v_{i,j-1}^{n}\\right) \\\\\n",
    "& - \\frac{\\Delta t}{\\rho 2\\Delta y} \\left(p_{i,j+1}^{n}-p_{i,j-1}^{n}\\right) \\\\\n",
    "& + \\nu\\left[\\frac{\\Delta t}{\\Delta x^2} \\left(v_{i+1,j}^{n}-2v_{i,j}^{n}+v_{i-1,j}^{n}\\right) + \\frac{\\Delta t}{\\Delta y^2} \\left(v_{i,j+1}^{n}-2v_{i,j}^{n}+v_{i,j-1}^{n}\\right)\\right]\n",
    "\\end{split}\n",
    "$$\n",
    "\n",
    "And for the pressure equation, we isolate the term $p_{i,j}^n$ to iterate in pseudo-time:\n",
    "\n",
    "$$\n",
    "\\begin{split}\n",
    "p_{i,j}^{n} = & \\frac{\\left(p_{i+1,j}^{n}+p_{i-1,j}^{n}\\right) \\Delta y^2 + \\left(p_{i,j+1}^{n}+p_{i,j-1}^{n}\\right) \\Delta x^2}{2(\\Delta x^2+\\Delta y^2)} \\\\\n",
    "& -\\frac{\\rho\\Delta x^2\\Delta y^2}{2\\left(\\Delta x^2+\\Delta y^2\\right)} \\\\\n",
    "& \\times \\left[\\frac{1}{\\Delta t} \\left(\\frac{u_{i+1,j}-u_{i-1,j}}{2\\Delta x} + \\frac{v_{i,j+1}-v_{i,j-1}}{2\\Delta y}\\right) - \\frac{u_{i+1,j}-u_{i-1,j}}{2\\Delta x}\\frac{u_{i+1,j}-u_{i-1,j}}{2\\Delta x} - 2\\frac{u_{i,j+1}-u_{i,j-1}}{2\\Delta y}\\frac{v_{i+1,j}-v_{i-1,j}}{2\\Delta x} - \\frac{v_{i,j+1}-v_{i,j-1}}{2\\Delta y}\\frac{v_{i,j+1}-v_{i,j-1}}{2\\Delta y}\\right]\n",
    "\\end{split}\n",
    "$$"
   ]
  },
  {
   "cell_type": "markdown",
   "metadata": {},
   "source": [
    "The initial condition is $u, v, p=0$ everywhere, and at the boundary conditions are:\n",
    "\n",
    "$u, v, p$ are periodic on $x=0,2$\n",
    "\n",
    "$u, v =0$ at $y =0,2$\n",
    "\n",
    "$\\frac{\\partial p}{\\partial y}=0$ at $y =0,2$\n",
    "\n",
    "$F=1$ everywhere.\n",
    "\n",
    "Let's begin by importing our usual run of libraries:\n"
   ]
  },
  {
   "cell_type": "code",
   "execution_count": null,
   "metadata": {},
   "outputs": [],
   "source": [
    "import numpy\n",
    "from matplotlib import pyplot, cm\n",
    "from mpl_toolkits.mplot3d import Axes3D\n",
    "%matplotlib inline"
   ]
  },
  {
   "cell_type": "markdown",
   "metadata": {},
   "source": [
    "In step 11, we isolated a portion of our transposed equation to make it easier to parse and we're going to do the same thing here.  One thing to note is that we have periodic boundary conditions throughout this grid, so we need to explicitly calculate the values at the leading and trailing edge of our `u` vector."
   ]
  },
  {
   "cell_type": "code",
   "execution_count": null,
   "metadata": {},
   "outputs": [],
   "source": [
    "def build_up_b(rho, dt, dx, dy, u, v):\n",
    "    b = numpy.zeros_like(u)\n",
    "    b[1:-1, 1:-1] = (rho * (1 / dt * ((u[1:-1, 2:] - u[1:-1, 0:-2]) / (2 * dx) +\n",
    "                                      (v[2:, 1:-1] - v[0:-2, 1:-1]) / (2 * dy)) -\n",
    "                            ((u[1:-1, 2:] - u[1:-1, 0:-2]) / (2 * dx))**2 -\n",
    "                            2 * ((u[2:, 1:-1] - u[0:-2, 1:-1]) / (2 * dy) *\n",
    "                                 (v[1:-1, 2:] - v[1:-1, 0:-2]) / (2 * dx))-\n",
    "                            ((v[2:, 1:-1] - v[0:-2, 1:-1]) / (2 * dy))**2))\n",
    "    \n",
    "    # Periodic BC Pressure @ x = 2\n",
    "    b[1:-1, -1] = (rho * (1 / dt * ((u[1:-1, 0] - u[1:-1,-2]) / (2 * dx) +\n",
    "                                    (v[2:, -1] - v[0:-2, -1]) / (2 * dy)) -\n",
    "                          ((u[1:-1, 0] - u[1:-1, -2]) / (2 * dx))**2 -\n",
    "                          2 * ((u[2:, -1] - u[0:-2, -1]) / (2 * dy) *\n",
    "                               (v[1:-1, 0] - v[1:-1, -2]) / (2 * dx)) -\n",
    "                          ((v[2:, -1] - v[0:-2, -1]) / (2 * dy))**2))\n",
    "\n",
    "    # Periodic BC Pressure @ x = 0\n",
    "    b[1:-1, 0] = (rho * (1 / dt * ((u[1:-1, 1] - u[1:-1, -1]) / (2 * dx) +\n",
    "                                   (v[2:, 0] - v[0:-2, 0]) / (2 * dy)) -\n",
    "                         ((u[1:-1, 1] - u[1:-1, -1]) / (2 * dx))**2 -\n",
    "                         2 * ((u[2:, 0] - u[0:-2, 0]) / (2 * dy) *\n",
    "                              (v[1:-1, 1] - v[1:-1, -1]) / (2 * dx))-\n",
    "                         ((v[2:, 0] - v[0:-2, 0]) / (2 * dy))**2))\n",
    "    \n",
    "    return b"
   ]
  },
  {
   "cell_type": "markdown",
   "metadata": {},
   "source": [
    "We'll also define a Pressure Poisson iterative function, again like we did in Step 11.  Once more, note that we have to include the periodic boundary conditions at the leading and trailing edge.  We also have to specify the boundary conditions at the top and bottom of our grid.  "
   ]
  },
  {
   "cell_type": "code",
   "execution_count": null,
   "metadata": {},
   "outputs": [],
   "source": [
    "def pressure_poisson_periodic(p, dx, dy):\n",
    "    pn = numpy.empty_like(p)\n",
    "    \n",
    "    for q in range(nit):\n",
    "        pn = p.copy()\n",
    "        p[1:-1, 1:-1] = (((pn[1:-1, 2:] + pn[1:-1, 0:-2]) * dy**2 +\n",
    "                          (pn[2:, 1:-1] + pn[0:-2, 1:-1]) * dx**2) /\n",
    "                         (2 * (dx**2 + dy**2)) -\n",
    "                         dx**2 * dy**2 / (2 * (dx**2 + dy**2)) * b[1:-1, 1:-1])\n",
    "\n",
    "        # Periodic BC Pressure @ x = 2\n",
    "        p[1:-1, -1] = (((pn[1:-1, 0] + pn[1:-1, -2])* dy**2 +\n",
    "                        (pn[2:, -1] + pn[0:-2, -1]) * dx**2) /\n",
    "                       (2 * (dx**2 + dy**2)) -\n",
    "                       dx**2 * dy**2 / (2 * (dx**2 + dy**2)) * b[1:-1, -1])\n",
    "\n",
    "        # Periodic BC Pressure @ x = 0\n",
    "        p[1:-1, 0] = (((pn[1:-1, 1] + pn[1:-1, -1])* dy**2 +\n",
    "                       (pn[2:, 0] + pn[0:-2, 0]) * dx**2) /\n",
    "                      (2 * (dx**2 + dy**2)) -\n",
    "                      dx**2 * dy**2 / (2 * (dx**2 + dy**2)) * b[1:-1, 0])\n",
    "        \n",
    "        # Wall boundary conditions, pressure\n",
    "        p[-1, :] =p[-2, :]  # dp/dy = 0 at y = 2\n",
    "        p[0, :] = p[1, :]  # dp/dy = 0 at y = 0\n",
    "    \n",
    "    return p"
   ]
  },
  {
   "cell_type": "markdown",
   "metadata": {},
   "source": [
    "Now we have our familiar list of variables and initial conditions to declare before we start."
   ]
  },
  {
   "cell_type": "code",
   "execution_count": null,
   "metadata": {},
   "outputs": [],
   "source": [
    "##variable declarations\n",
    "nx = 41\n",
    "ny = 41\n",
    "nt = 10\n",
    "nit = 50 \n",
    "c = 1\n",
    "dx = 2 / (nx - 1)\n",
    "dy = 2 / (ny - 1)\n",
    "x = numpy.linspace(0, 2, nx)\n",
    "y = numpy.linspace(0, 2, ny)\n",
    "X, Y = numpy.meshgrid(x, y)\n",
    "\n",
    "\n",
    "##physical variables\n",
    "rho = 1\n",
    "nu = .1\n",
    "F = 1\n",
    "dt = .01\n",
    "\n",
    "#initial conditions\n",
    "u = numpy.zeros((ny, nx))\n",
    "un = numpy.zeros((ny, nx))\n",
    "\n",
    "v = numpy.zeros((ny, nx))\n",
    "vn = numpy.zeros((ny, nx))\n",
    "\n",
    "p = numpy.ones((ny, nx))\n",
    "pn = numpy.ones((ny, nx))\n",
    "\n",
    "b = numpy.zeros((ny, nx))"
   ]
  },
  {
   "cell_type": "markdown",
   "metadata": {},
   "source": [
    "For the meat of our computation, we're going to reach back to a trick we used in Step 9 for Laplace's Equation.  We're interested in what our grid will look like once we've reached a near-steady state.  We can either specify a number of timesteps `nt` and increment it until we're satisfied with the results, or we can tell our code to run until the difference between two consecutive iterations is very small.  \n",
    "\n",
    "We also have to manage **8** separate boundary conditions for each iteration.  The code below writes each of them out explicitly.  If you're interested in a challenge, you can try to write a function which can handle some or all of these boundary conditions.  If you're interested in tackling that, you should probably read up on Python [dictionaries](http://docs.python.org/2/tutorial/datastructures.html#dictionaries).  "
   ]
  },
  {
   "cell_type": "code",
   "execution_count": null,
   "metadata": {},
   "outputs": [],
   "source": [
    "udiff = 1\n",
    "stepcount = 0\n",
    "\n",
    "while udiff > .001:\n",
    "    un = u.copy()\n",
    "    vn = v.copy()\n",
    "\n",
    "    b = build_up_b(rho, dt, dx, dy, u, v)\n",
    "    p = pressure_poisson_periodic(p, dx, dy)\n",
    "\n",
    "    u[1:-1, 1:-1] = (un[1:-1, 1:-1] -\n",
    "                     un[1:-1, 1:-1] * dt / dx * \n",
    "                    (un[1:-1, 1:-1] - un[1:-1, 0:-2]) -\n",
    "                     vn[1:-1, 1:-1] * dt / dy * \n",
    "                    (un[1:-1, 1:-1] - un[0:-2, 1:-1]) -\n",
    "                     dt / (2 * rho * dx) * \n",
    "                    (p[1:-1, 2:] - p[1:-1, 0:-2]) +\n",
    "                     nu * (dt / dx**2 * \n",
    "                    (un[1:-1, 2:] - 2 * un[1:-1, 1:-1] + un[1:-1, 0:-2]) +\n",
    "                     dt / dy**2 * \n",
    "                    (un[2:, 1:-1] - 2 * un[1:-1, 1:-1] + un[0:-2, 1:-1])) + \n",
    "                     F * dt)\n",
    "\n",
    "    v[1:-1, 1:-1] = (vn[1:-1, 1:-1] -\n",
    "                     un[1:-1, 1:-1] * dt / dx * \n",
    "                    (vn[1:-1, 1:-1] - vn[1:-1, 0:-2]) -\n",
    "                     vn[1:-1, 1:-1] * dt / dy * \n",
    "                    (vn[1:-1, 1:-1] - vn[0:-2, 1:-1]) -\n",
    "                     dt / (2 * rho * dy) * \n",
    "                    (p[2:, 1:-1] - p[0:-2, 1:-1]) +\n",
    "                     nu * (dt / dx**2 *\n",
    "                    (vn[1:-1, 2:] - 2 * vn[1:-1, 1:-1] + vn[1:-1, 0:-2]) +\n",
    "                     dt / dy**2 * \n",
    "                    (vn[2:, 1:-1] - 2 * vn[1:-1, 1:-1] + vn[0:-2, 1:-1])))\n",
    "\n",
    "    # Periodic BC u @ x = 2     \n",
    "    u[1:-1, -1] = (un[1:-1, -1] - un[1:-1, -1] * dt / dx * \n",
    "                  (un[1:-1, -1] - un[1:-1, -2]) -\n",
    "                   vn[1:-1, -1] * dt / dy * \n",
    "                  (un[1:-1, -1] - un[0:-2, -1]) -\n",
    "                   dt / (2 * rho * dx) *\n",
    "                  (p[1:-1, 0] - p[1:-1, -2]) + \n",
    "                   nu * (dt / dx**2 * \n",
    "                  (un[1:-1, 0] - 2 * un[1:-1,-1] + un[1:-1, -2]) +\n",
    "                   dt / dy**2 * \n",
    "                  (un[2:, -1] - 2 * un[1:-1, -1] + un[0:-2, -1])) + F * dt)\n",
    "\n",
    "    # Periodic BC u @ x = 0\n",
    "    u[1:-1, 0] = (un[1:-1, 0] - un[1:-1, 0] * dt / dx *\n",
    "                 (un[1:-1, 0] - un[1:-1, -1]) -\n",
    "                  vn[1:-1, 0] * dt / dy * \n",
    "                 (un[1:-1, 0] - un[0:-2, 0]) - \n",
    "                  dt / (2 * rho * dx) * \n",
    "                 (p[1:-1, 1] - p[1:-1, -1]) + \n",
    "                  nu * (dt / dx**2 * \n",
    "                 (un[1:-1, 1] - 2 * un[1:-1, 0] + un[1:-1, -1]) +\n",
    "                  dt / dy**2 *\n",
    "                 (un[2:, 0] - 2 * un[1:-1, 0] + un[0:-2, 0])) + F * dt)\n",
    "\n",
    "    # Periodic BC v @ x = 2\n",
    "    v[1:-1, -1] = (vn[1:-1, -1] - un[1:-1, -1] * dt / dx *\n",
    "                  (vn[1:-1, -1] - vn[1:-1, -2]) - \n",
    "                   vn[1:-1, -1] * dt / dy *\n",
    "                  (vn[1:-1, -1] - vn[0:-2, -1]) -\n",
    "                   dt / (2 * rho * dy) * \n",
    "                  (p[2:, -1] - p[0:-2, -1]) +\n",
    "                   nu * (dt / dx**2 *\n",
    "                  (vn[1:-1, 0] - 2 * vn[1:-1, -1] + vn[1:-1, -2]) +\n",
    "                   dt / dy**2 *\n",
    "                  (vn[2:, -1] - 2 * vn[1:-1, -1] + vn[0:-2, -1])))\n",
    "\n",
    "    # Periodic BC v @ x = 0\n",
    "    v[1:-1, 0] = (vn[1:-1, 0] - un[1:-1, 0] * dt / dx *\n",
    "                 (vn[1:-1, 0] - vn[1:-1, -1]) -\n",
    "                  vn[1:-1, 0] * dt / dy *\n",
    "                 (vn[1:-1, 0] - vn[0:-2, 0]) -\n",
    "                  dt / (2 * rho * dy) * \n",
    "                 (p[2:, 0] - p[0:-2, 0]) +\n",
    "                  nu * (dt / dx**2 * \n",
    "                 (vn[1:-1, 1] - 2 * vn[1:-1, 0] + vn[1:-1, -1]) +\n",
    "                  dt / dy**2 * \n",
    "                 (vn[2:, 0] - 2 * vn[1:-1, 0] + vn[0:-2, 0])))\n",
    "\n",
    "\n",
    "    # Wall BC: u,v = 0 @ y = 0,2\n",
    "    u[0, :] = 0\n",
    "    u[-1, :] = 0\n",
    "    v[0, :] = 0\n",
    "    v[-1, :]=0\n",
    "    \n",
    "    udiff = (numpy.sum(u) - numpy.sum(un)) / numpy.sum(u)\n",
    "    stepcount += 1"
   ]
  },
  {
   "cell_type": "markdown",
   "metadata": {},
   "source": [
    "You can see that we've also included a variable `stepcount` to see how many iterations our loop went through before our stop condition was met.  "
   ]
  },
  {
   "cell_type": "code",
   "execution_count": null,
   "metadata": {},
   "outputs": [],
   "source": [
    "print(stepcount)"
   ]
  },
  {
   "cell_type": "markdown",
   "metadata": {},
   "source": [
    "If you want to see how the number of iterations increases as our `udiff` condition gets smaller and smaller, try defining a function to perform the `while` loop written above that takes an input `udiff` and outputs the number of iterations that the function runs.  \n",
    "\n",
    "For now, let's look at our results.  We've used the quiver function to look at the cavity flow results and it works well for channel flow, too.  "
   ]
  },
  {
   "cell_type": "code",
   "execution_count": null,
   "metadata": {},
   "outputs": [],
   "source": [
    "fig = pyplot.figure(figsize = (11,7), dpi=100)\n",
    "pyplot.quiver(X[::3, ::3], Y[::3, ::3], u[::3, ::3], v[::3, ::3]);"
   ]
  },
  {
   "cell_type": "markdown",
   "metadata": {},
   "source": [
    "The structures in the `quiver` command that look like `[::3, ::3]` are useful when dealing with large amounts of data that you want to visualize.  The one used above tells `matplotlib` to only plot every 3rd data point.  If we leave it out, you can see that the results can appear a little crowded.  "
   ]
  },
  {
   "cell_type": "code",
   "execution_count": null,
   "metadata": {},
   "outputs": [],
   "source": [
    "fig = pyplot.figure(figsize = (11,7), dpi=100)\n",
    "pyplot.quiver(X, Y, u, v);"
   ]
  },
  {
   "cell_type": "markdown",
   "metadata": {},
   "source": [
    "## Learn more\n",
    "***"
   ]
  },
  {
   "cell_type": "markdown",
   "metadata": {},
   "source": [
    "##### What is the meaning of the $F$ term?\n",
    "\n",
    "Step 12 is an exercise demonstrating the problem of flow in a channel or pipe. If you recall from your fluid mechanics class, a specified pressure gradient is what drives Poisseulle flow. \n",
    "\n",
    "Recall the $x$-momentum equation:\n",
    "\n",
    "$$\\frac{\\partial u}{\\partial t}+u \\cdot \\nabla u = -\\frac{\\partial p}{\\partial x}+\\nu \\nabla^2 u$$\n",
    "\n",
    "What we actually do in Step 12 is split the pressure into steady and unsteady components $p=P+p'$. The applied steady pressure gradient is the constant $-\\frac{\\partial P}{\\partial x}=F$ (interpreted as a source term), and the unsteady component is $\\frac{\\partial p'}{\\partial x}$. So the pressure that we solve for in Step 12 is actually $p'$, which for a steady flow is in fact equal to zero everywhere.\n",
    "\n",
    "<b>Why did we do this?</b>\n",
    "\n",
    "Note that we use periodic boundary conditions for this flow. For a flow with a constant pressure gradient, the value of pressure on the left edge of the domain must be different from the pressure at the right edge. So we cannot apply periodic boundary conditions on the pressure directly. It is easier to fix the gradient and then solve for the perturbations in pressure.\n",
    "\n",
    "<b>Shouldn't we always expect a uniform/constant $p'$ then?</b>\n",
    "\n",
    "That's true only in the case of steady laminar flows. At high Reynolds numbers, flows in channels can become turbulent, and we will see unsteady fluctuations in the pressure, which will result in non-zero values for $p'$. \n",
    "\n",
    "In step 12, note that the pressure field itself is not constant, but it's the pressure perturbation field that is. The pressure field varies linearly along the channel with slope equal to the pressure gradient. Also, for incompressible flows, the absolute value of the pressure is inconsequential.\n"
   ]
  },
  {
   "cell_type": "markdown",
   "metadata": {},
   "source": [
    "##### And explore more CFD materials online"
   ]
  },
  {
   "cell_type": "markdown",
   "metadata": {},
   "source": [
    "The interactive module **12 steps to Navier–Stokes** is one of several components of the Computational Fluid Dynamics class taught by Prof. Lorena A. Barba in Boston University between 2009 and 2013. \n",
    "\n",
    "For a sample of what the othe components of this class are, you can explore the **Resources** section of the Spring 2013 version of [the course's Piazza site](https://piazza.com/bu/spring2013/me702/resources).\n",
    "\n",
    "***"
   ]
  },
  {
   "cell_type": "code",
   "execution_count": null,
   "metadata": {},
   "outputs": [],
   "source": [
    "from IPython.core.display import HTML\n",
    "def css_styling():\n",
    "    styles = open(\"../styles/custom.css\", \"r\").read()\n",
    "    return HTML(styles)\n",
    "css_styling()"
   ]
  },
  {
   "cell_type": "markdown",
   "metadata": {},
   "source": [
    "(The cell above executes the style for this notebook.)"
   ]
  }
 ],
 "metadata": {
  "kernelspec": {
   "display_name": "Python 3",
   "language": "python",
   "name": "python3"
  },
  "language_info": {
   "codemirror_mode": {
    "name": "ipython",
    "version": 3
   },
   "file_extension": ".py",
   "mimetype": "text/x-python",
   "name": "python",
   "nbconvert_exporter": "python",
   "pygments_lexer": "ipython3",
   "version": "3.7.7"
  }
 },
 "nbformat": 4,
 "nbformat_minor": 4
}
